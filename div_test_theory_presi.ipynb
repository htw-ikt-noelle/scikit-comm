{
 "cells": [
  {
   "cell_type": "markdown",
   "metadata": {},
   "source": [
    "Aus dem Wissen der vorherigen Simulationen soll nun untersucht werden, ob sowohl MRC als auch EGC sich verhalten wie erwartet. Hierfür wird innerhalb eines AWGN-Kanals das SNR der Einzelkanänle und des kombinierten Kanals betrachtet, da diese Größe nicht von eventuellen Rx-DSP-Eigenschaften anders als die BER abhängig ist. Es ist somit auch für die nähere Zukunft interessant, diesen Parameter als Bezugs- und Kontrollgröße zu wählen. \n",
    "Nehmen wir an, wir haben einen AWGN-Kanal vorliegen. Bei diesem lässt sich das empfangene Signal $r$ beschreiben durch\n",
    "\n",
    "\\begin{equation}\n",
    "\\tag{--}\n",
    "r = \\alpha \\cdot s + n\n",
    "\\end{equation}\n",
    "\n",
    "wobei $\\alpha$ den Kanalkoeffizienten darstellt. Wie beim AWGN-Kanal üblich, nehmen wir für den Rauschprozess eine Standard-Normalverteilung ($\\mu = 0, \\sigma_N^2 = 1$) an. Mit dem Wissen, dass das SNR definiert werden kann als Quadratamplitude durch Varianz des Rauschprozesses, lässt sich der Kanalkoeffizient hierraus mithilfe von\n",
    "\n",
    "\\begin{equation}\n",
    "\\tag{--}\n",
    "SNR = \\frac{A^2}{\\sigma^2} = \\frac{a^2}{\\sigma^2_N} = \\frac{a^2}{1}\n",
    "\\end{equation}\n",
    "\n",
    "bestimmen. Wie dargestellt, ergibt sich somit für den Fall eines AWGN-Kanals ein Kanalkoeffizient von $\\alpha = \\sqrt{SNR}$. Mithilfe dieser Darstellung ist es uns möglich, nun weitere Kombinationsverfahren hinsichtlich des Verhaltens des SNRs zu untersuchen. Betrachten wir zuerst die teilweise bereits bekannten Gleichungen für die eigentliche Umsetzung der Kombinationsverfahren:\n",
    "\n",
    "\\begin{equation}\n",
    "\\tag{--, (Angelehnt an (18), Seite 44, Creasey)}\n",
    "r_{MRC} = \\sum_{l=1}^L \\alpha_l \\cdot r_l\n",
    "\\end{equation}\n",
    "\n",
    "\\begin{equation}\n",
    "\\tag{--, (Angelehnt an (?), Seite 45, Creasey)}\n",
    "r_{EGC} = \\sum_{l=1}^L r_l\n",
    "\\end{equation}\n",
    "\n",
    "diese zeigen, dass nur für die Umsetzung von MRC die Kanalkoeffizienten benötigt werden. Bei EGC werden diese Kanalkoeffizienten als 1 angenommen, wir gehen deshalb davon aus, dass jedes (Teil-)Signal mit dem gleichen Gain beaufschlagt wird. Um einen Wert zu ermitteln, mit die korrekte Funktion der Kombinierung verfizieren können, werden theoretische erwartbare Werte benötigt. Diese sind gegeben als\n",
    "\n",
    "\\begin{equation}\n",
    "\\tag{20, Seite 44, Creasey}\n",
    "\\gamma_{R} = \\sum_{l=1}^L \\gamma_{k}\n",
    "\\end{equation}\n",
    "\n",
    "\\begin{equation}\n",
    "\\tag{6.24, Seite 165, Nuszkowski}\n",
    "\\gamma_{R} = \\frac{1}{L} \\cdot \\left( \\sum_{l=1}^L |\\alpha_l| \\right )^2\n",
    "\\end{equation}\n",
    "\n",
    "und beschreiben das erwartbare SNR des kombinierten Signals in Abhängikeit des SNRs der Einzelkanäle.\n",
    "______\n",
    "Einen direkter Diversitätsgewinn (SNR des kombinierten Signals zu mittlerem SNR aller Einzelkanäle) lässt sich zumindest für das MRC-Verfahren direkt ableiten. [Nuszkowski](https://books.google.de/books/about/Digitale_Signalübertragung_im_Mobilfunk.html?id=S03poAEACAAJ&hl=en&output=html_text&redir_esc=y) nennt diese Darstellung des Verhätnisses von SNR und Kombinierung den sog. normierten Mittelwert (kombinierter SNR-Gewinn gegenüber dem SNR der Einzelkanäle). Wie für MRC bereis aus der Gleichung von Creasey ersichtlich, ist dieses im Falle von MRC einfach mit \n",
    "\n",
    "\\begin{equation}\n",
    "\\tag{23, Seite 44, Creasey}\n",
    "\\ \\bar{\\gamma}_{R, MRC, Gewinn} = L\n",
    "\\end{equation}\n",
    "\n",
    "zu beschreiben. Eine allgemeine Lösung für EGC ist hierbei nicht möglich; allerdings lässt sich für die Annahme von _Rayleigh-verteilten Kanalkoeffizieten_ eine Gleichung in Creasey finden:\n",
    "\n",
    "\\begin{equation}\n",
    "\\tag{25, Seite 45, Creasey}\n",
    "\\ \\bar{\\gamma}_{R, EGC, Gewinn} = \\left[  1 + (L -1) \\frac{\\pi}{4} \\right] \n",
    "\\end{equation}\n",
    "\n",
    "Während der Diversitätsgewinn für das MRC Verfahren unabhängig der Verteilung der Kanalkoeffizienten ist, gilt dieses nicht für EGC. Der Nachweis dieser Gleichungen soll in folgender Simulation erfolgen. Hinweis: Genauere Herleitungen und Betrachtungen zur EGC Problematik lassen sich sehr verständlich bei [Brennan, 1959](https://ieeexplore.ieee.org/document/4065786) finden.\n"
   ]
  }
 ],
 "metadata": {
  "kernelspec": {
   "display_name": "Python 3.10.2 ('env-comm-dispy')",
   "language": "python",
   "name": "python3"
  },
  "language_info": {
   "name": "python",
   "version": "3.10.2"
  },
  "orig_nbformat": 4,
  "vscode": {
   "interpreter": {
    "hash": "2a4278c574a9184872632d85c93e28289514523c5b043ff01d215e4836ab5848"
   }
  }
 },
 "nbformat": 4,
 "nbformat_minor": 2
}
