{
 "cells": [
  {
   "cell_type": "markdown",
   "metadata": {},
   "source": [
    "# Testbed for diversity combining with data transmission signals\n",
    "- Focus: MRC & EGC combining\n",
    "- Understanding Theory & fit to complex signals (4-QAM)"
   ]
  },
  {
   "cell_type": "code",
   "execution_count": 1,
   "metadata": {},
   "outputs": [],
   "source": [
    "import numpy as np\n",
    "import matplotlib.pyplot as plt"
   ]
  },
  {
   "cell_type": "markdown",
   "metadata": {},
   "source": [
    "### 1. Generate complex 4-QAM signals"
   ]
  },
  {
   "cell_type": "code",
   "execution_count": 56,
   "metadata": {},
   "outputs": [
    {
     "name": "stdout",
     "output_type": "stream",
     "text": [
      "mean power: 1.4142135623730956\n",
      "mean power (after normalization): 1.00\n"
     ]
    },
    {
     "data": {
      "image/png": "[encoded data removed]",
      "text/plain": [
       "<Figure size 432x288 with 1 Axes>"
      ]
     },
     "metadata": {
      "needs_background": "light"
     },
     "output_type": "display_data"
    }
   ],
   "source": [
    "order = 4\n",
    "symbols_amount = 10000\n",
    "\n",
    "#generate some 4-QAM style samples\n",
    "symbols_with_0 = np.random.default_rng().integers(-1,2,size=int(symbols_amount*np.log2(order)))+1j*np.random.default_rng().integers(-1,2,size=int(symbols_amount*np.log2(order)))\n",
    "\n",
    "#remove some stuff which should not be there\n",
    "for i in range(len(symbols_with_0)):\n",
    "    if np.real(symbols_with_0[i])==0 or np.imag(symbols_with_0[i])==0:\n",
    "        symbols_with_0[i] = np.nan\n",
    "symbols_before_norm = symbols_with_0[~np.isnan(symbols_with_0)]\n",
    "\n",
    "\n",
    "\n",
    "print(\"mean power: \" + str(np.mean(np.abs(symbols_before_norm))))\n",
    "mag_const = 1\n",
    "mag_samples = np.mean(np.abs(symbols_before_norm))\n",
    "symbols = symbols_before_norm * (mag_const / mag_samples)\n",
    "print(\"mean power (after normalization): {:.2f}\".format(np.mean(np.abs(symbols))))\n",
    "\n",
    "plt.figure()\n",
    "plt.title(\"constellation\")\n",
    "plt.scatter(np.real(symbols_before_norm), np.imag(symbols_before_norm), label=\"before norm\")\n",
    "plt.scatter(np.real(symbols), np.imag(symbols), label=\"after norm\")\n",
    "plt.legend()\n",
    "plt.grid()\n",
    "plt.show()"
   ]
  },
  {
   "cell_type": "markdown",
   "metadata": {},
   "source": [
    "### 2. Generate some different AWGN-Channel out of these symbols"
   ]
  },
  {
   "cell_type": "code",
   "execution_count": 109,
   "metadata": {},
   "outputs": [],
   "source": [
    "n_dims = 6\n",
    "snr_list_dB = [15,30,12,3,10,11]\n",
    "\n",
    "channel_array = np.zeros((n_dims,len(symbols)), dtype=complex)\n",
    "\n",
    "for i in range(n_dims):\n",
    "    channel_array[i,:] = np.sqrt(10**(snr_list_dB[i]/10))*symbols+np.random.default_rng().standard_normal(size=symbols.size)"
   ]
  },
  {
   "cell_type": "markdown",
   "metadata": {},
   "source": [
    "### 3. Combine these AWGN-Channels\n",
    "- MRC: combining ideally with known SNR of each branch"
   ]
  },
  {
   "cell_type": "code",
   "execution_count": 107,
   "metadata": {},
   "outputs": [],
   "source": [
    "mrc_sig = np.zeros(len(symbols), dtype=complex)\n",
    "egc_sig = np.zeros(len(symbols), dtype=complex)\n",
    "\n",
    "for i in range(n_dims):\n",
    "    mrc_sig += channel_array[i,:]*10**(snr_list_dB[i]/10)\n",
    "    egc_sig += channel_array[i,:]\n",
    "\n",
    "#normalize them for easier work\n",
    "mrc_sig =  mrc_sig * (1 / np.mean(np.abs(mrc_sig)))\n",
    "egc_sig =  egc_sig * (1 / np.mean(np.abs(egc_sig)))"
   ]
  },
  {
   "cell_type": "markdown",
   "metadata": {},
   "source": [
    "### Estimate SNR & compare to theory\n",
    "M  = number of RX Apertures\n",
    "- SNR estimation method with known TX symbols: $$SNR = \\frac{\\sigma^2_{Sig}}{\\sigma^2_{Noise}}$$\n",
    "\n",
    "\n",
    "- Theory of MRC: combined signal SNR should be the sum of single SNRs: $$\\gamma_{\\Sigma} = \\sum_{m=1}^M \\gamma_{M}$$\n",
    "\n",
    "\n",
    "- Theory of EGC: something different, the performance should be less than MRC: $$\\gamma_{\\Sigma} = \\frac{1}{M} \\cdot \\left( \\sum_{m=1}^M \\gamma_{M} \\right )^2$$\n",
    "  "
   ]
  },
  {
   "cell_type": "markdown",
   "metadata": {},
   "source": []
  },
  {
   "cell_type": "code",
   "execution_count": 108,
   "metadata": {},
   "outputs": [
    {
     "name": "stdout",
     "output_type": "stream",
     "text": [
      "MRC: // theory: 30.30dB // measured: 30.14dB // diff: 0.16dB\n",
      "EGC: // theory: 26.08dB // measured: 26.05dB // diff: 0.04dB\n"
     ]
    }
   ],
   "source": [
    "theory_mrc = 10*np.log10(np.sum([10**(x/10) for x in snr_list_dB]))\n",
    "snr_mrc = 10*np.log10(np.var(symbols)/np.var(mrc_sig-symbols))\n",
    "\n",
    "print(\"MRC: // theory: {:.2f}dB // measured: {:.2f}dB // diff: {:.2f}dB\".format(theory_mrc,snr_mrc,theory_mrc-snr_mrc))\n",
    "\n",
    "theory_egc = 10*np.log10((1/n_dims)*(np.sum([np.sqrt(10**(x/10)) for x in snr_list_dB])**2))\n",
    "snr_egc = 10*np.log10(np.var(symbols)/np.var(egc_sig-symbols))\n",
    "\n",
    "print(\"EGC: // theory: {:.2f}dB // measured: {:.2f}dB // diff: {:.2f}dB\".format(theory_egc,snr_egc,theory_egc-snr_egc))\n"
   ]
  },
  {
   "cell_type": "code",
   "execution_count": null,
   "metadata": {},
   "outputs": [],
   "source": []
  }
 ],
 "metadata": {
  "kernelspec": {
   "display_name": "Python 3.10.2 ('env-comm-dispy')",
   "language": "python",
   "name": "python3"
  },
  "language_info": {
   "codemirror_mode": {
    "name": "ipython",
    "version": 3
   },
   "file_extension": ".py",
   "mimetype": "text/x-python",
   "name": "python",
   "nbconvert_exporter": "python",
   "pygments_lexer": "ipython3",
   "version": "3.10.2"
  },
  "orig_nbformat": 4,
  "vscode": {
   "interpreter": {
    "hash": "2a4278c574a9184872632d85c93e28289514523c5b043ff01d215e4836ab5848"
   }
  }
 },
 "nbformat": 4,
 "nbformat_minor": 2
}
